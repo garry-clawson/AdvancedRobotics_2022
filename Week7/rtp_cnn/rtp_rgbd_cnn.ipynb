{
  "nbformat": 4,
  "nbformat_minor": 0,
  "metadata": {
    "colab": {
      "name": "rtp_rgbd_cnn.ipynb",
      "provenance": [],
      "collapsed_sections": []
    },
    "kernelspec": {
      "name": "python3",
      "display_name": "Python 3"
    },
    "language_info": {
      "name": "python"
    }
  },
  "cells": [
    {
      "cell_type": "markdown",
      "source": [
        "## **Reach-to-Palpate Task**\n",
        "\n",
        "In this task, we are going to train a network on a small set of color images & joint trajectories. The goal of this task is to train a network that can take in color image of the breast phantom in home pose and returns a set a ProMP weights. These weights are used to forward-calculate the robot joint trajectory. \n",
        "\n",
        "Some important points are: \n",
        "\n",
        "1) These images of breast phantom are taken from robot home position. \n",
        "\n",
        "2) Then the robot was moved to reach the palpation start point. \n",
        "\n",
        "3) The palpation start point is always breast phantom nipple. \n",
        "\n",
        "4) The workspace area in XY-direction (in camera view) when the robot is at home position was dividied into 4 reigons i.e. A, B, C, D. \n",
        "\n",
        "5) The breast phantom was placed in all four regions. \n",
        "\n",
        "6) While the robot was moving, all its joint positions, speeds and accceralations were recorded as well.\n"
      ],
      "metadata": {
        "id": "AfoL3CzQrqQb"
      }
    },
    {
      "cell_type": "code",
      "execution_count": null,
      "metadata": {
        "id": "_vsrZV_H1i68",
        "colab": {
          "base_uri": "https://localhost:8080/"
        },
        "outputId": "e390a179-8db0-455a-aac6-325eb6c7fd2c"
      },
      "outputs": [
        {
          "output_type": "stream",
          "name": "stdout",
          "text": [
            "Drive already mounted at /content/drive; to attempt to forcibly remount, call drive.mount(\"/content/drive\", force_remount=True).\n"
          ]
        }
      ],
      "source": [
        "# to access the google drive.\n",
        "from google.colab import drive\n",
        "drive.mount('/content/drive')"
      ]
    },
    {
      "cell_type": "code",
      "source": [
        "# to import local python modules.\n",
        "import sys\n",
        "sys.path.insert(0,\"/content/drive/MyDrive/Colab-Notebooks/AdvanceRoboticsWorkshop/rtp_cnn/\")\n",
        "from promp import ProMP"
      ],
      "metadata": {
        "id": "ZuzT5M-x132F"
      },
      "execution_count": null,
      "outputs": []
    },
    {
      "cell_type": "code",
      "source": [
        "# imports\n",
        "import os\n",
        "import json\n",
        "import numpy as np\n",
        "import tensorflow as tf\n",
        "from tensorflow.keras import Model\n",
        "import tensorflow.keras.layers as layers\n",
        "from tensorflow.python.keras.metrics import MeanMetricWrapper\n",
        "import abc\n",
        "import matplotlib.pyplot as plt\n",
        "from skimage.io import imread\n",
        "from skimage.transform import resize\n",
        "import random\n"
      ],
      "metadata": {
        "id": "PFqKp2JDASBr"
      },
      "execution_count": null,
      "outputs": []
    },
    {
      "cell_type": "code",
      "source": [
        "def load_encoded_images(img_dir, id_list, encoder, resize_shape = None, normalize = False) -> np.ndarray:\n",
        "  \"\"\"Load multiple images by ID from a directory an pass them through an encoder model.\n",
        "\n",
        "  Args:\n",
        "      img_dir (str): Path of the directory.\n",
        "      id_list (np.ndarray): List of image id\n",
        "      encoder (tf.keras.Model): The encoder model.\n",
        "      resize_shape (tuple[int], optional): If specified, reshape all images to this shape. Defaults to None.\n",
        "      normalize (bool, optional): If True, normalize the image in [-1, 1]. Defaults to False.\n",
        "\n",
        "  Returns:\n",
        "      np.ndarray: The image data with shape (samples, width, height, channels).\n",
        "  \"\"\"\n",
        "  return np.array([load_encoded_image(os.path.join(img_dir, id + \".png\"), encoder, resize_shape, normalize) for id in id_list])"
      ],
      "metadata": {
        "id": "_eI-CTvXv7eG"
      },
      "execution_count": null,
      "outputs": []
    },
    {
      "cell_type": "code",
      "source": [
        "def load_encoded_image(img_path, encoder, resize_shape = None, normalize = False) -> np.ndarray:\n",
        "    \"\"\"Load an image an pass it through an encoder model.\n",
        "\n",
        "    Args:\n",
        "        img_path (str): Path of the image.\n",
        "        encoder (tf.keras.Model): The encoder model.\n",
        "        resize_shape (tuple[int], optional): If specified, reshape all images to this shape. Defaults to None.\n",
        "        normalize (bool, optional): If True, normalize the image in [-1, 1]. Defaults to False.\n",
        "\n",
        "    Returns:\n",
        "        np.ndarray: The image data with shape (width, height, channels).\n",
        "    \"\"\"\n",
        "    return np.squeeze(encoder(np.expand_dims(load_image(img_path, resize_shape, normalize), axis=0)))"
      ],
      "metadata": {
        "id": "mefl0JTywTJv"
      },
      "execution_count": null,
      "outputs": []
    },
    {
      "cell_type": "code",
      "source": [
        "def load_image(img_path, resize_shape = None, normalize = False) -> np.ndarray:\n",
        "    \"\"\"Load an image from file.\n",
        "\n",
        "    Args:\n",
        "        img_path (str): Path of the image.\n",
        "        resize_shape (tuple[int], optional): If specified, reshape all images to this shape. Defaults to None.\n",
        "        normalize (bool, optional): If True, normalize the image in [-1, 1]. Defaults to False.\n",
        "\n",
        "    Returns:\n",
        "        np.ndarray: The image data.\n",
        "    \"\"\"\n",
        "\n",
        "    img = imread(img_path, pilmode='RGB')\n",
        "    if resize_shape:\n",
        "        img = resize(img, resize_shape)\n",
        "    if normalize:\n",
        "        img = normalize_negative_one(img)\n",
        "    return img"
      ],
      "metadata": {
        "id": "Vgpj-KuUwVdH"
      },
      "execution_count": null,
      "outputs": []
    },
    {
      "cell_type": "code",
      "source": [
        "def normalize_negative_one(img):\n",
        "    normalized_input = (img - np.amin(img)) / (np.amax(img) - np.amin(img))\n",
        "    return 2*normalized_input - 1"
      ],
      "metadata": {
        "id": "BnlXQY_qwYDN"
      },
      "execution_count": null,
      "outputs": []
    },
    {
      "cell_type": "code",
      "source": [
        "def load_array_from_json(dir_path, json_key, id_list, slicer = None):\n",
        "    \"\"\"Load (a slice of) a Numpy array from multiple JSON files in a folder.\n",
        "\n",
        "    Can be used, for example, to load joint states from multiple trajectory files.\n",
        "\n",
        "    Args:\n",
        "        dir_path (str): The path of the directory containing the files.\n",
        "        json_keys (list[str]): The keys to be read from the JSON files.\n",
        "        id_list (list[str]): The ids of the files to be read.\n",
        "        slicer (tuple[slice], optional): If specified, slice every array accoroding to this slicer. Defaults to None.\n",
        "\n",
        "    Returns:\n",
        "        list[np.ndarray]: An array for each key.\n",
        "    \"\"\"\n",
        "\n",
        "    data = []\n",
        "    for id in id_list:\n",
        "        file_path = os.path.join(dir_path, f\"{id}.json\")\n",
        "        with open(file_path, \"r\") as file:\n",
        "            json_data = json.load(file)[json_key]\n",
        "            arr = np.array(json_data)\n",
        "            if slicer:\n",
        "                arr = arr[slicer]\n",
        "            data.append(arr)\n",
        "    return data"
      ],
      "metadata": {
        "id": "vZascmOJwj7E"
      },
      "execution_count": null,
      "outputs": []
    },
    {
      "cell_type": "code",
      "source": [
        "def get_joint_loss(promp):\n",
        "    \"\"\"Obtain the loss function evaluating the RMSE on the joint trajectories from the full ProMP weights (in TensorFlow).\n",
        "\n",
        "    Args:\n",
        "        promp (ProMP): An initialized ProMP instance.\n",
        "\n",
        "    Returns:\n",
        "        The loss function\n",
        "    \"\"\"\n",
        "\n",
        "    def joint_loss(promp_true, promp_pred):\n",
        "        \"\"\"RMSE loss on the joint trajectory from the full ProMP weights.\n",
        "\n",
        "        Args:\n",
        "            promp_true: Ground truth full ProMP weights with shape (n_batch, n_basis * n_dof).\n",
        "            promp_pred: Predicted full ProMP weights with shape (n_batch, n_basis * n_dof).\n",
        "\n",
        "        Returns:\n",
        "            The resulting loss.\n",
        "        \"\"\"\n",
        "        traj_true = promp.trajectory_from_weights_tf(promp_true)\n",
        "        traj_pred = promp.trajectory_from_weights_tf(promp_pred)\n",
        "        # RMSE on joint trajectories.\n",
        "        loss = tf.sqrt(tf.reduce_mean(tf.square(traj_true - traj_pred), axis=1))\n",
        "        # Average over batches and joints.\n",
        "        loss = tf.reduce_mean(loss)\n",
        "        return loss\n",
        "\n",
        "    return joint_loss"
      ],
      "metadata": {
        "id": "Bm4pczRtxdbb"
      },
      "execution_count": null,
      "outputs": []
    },
    {
      "cell_type": "code",
      "source": [
        "# Create ProMP objects \n",
        "n_basis = 10 \n",
        "n_dof = 7\n",
        "n_t = 100\n",
        "promp = ProMP(n_basis = n_basis, n_dof = n_dof, n_t = n_t )\n"
      ],
      "metadata": {
        "id": "QwSFGYBtuzCV"
      },
      "execution_count": null,
      "outputs": []
    },
    {
      "cell_type": "code",
      "source": [
        "# Load pre-trained encoder model\n",
        "\n",
        "AUTOENCODER_MODEL_PATH = \"/content/drive/MyDrive/Colab-Notebooks/AdvanceRoboticsWorkshop/autoencoders/model/rtp-rgbd/\"\n",
        "IMAGE_DIR = \"/content/drive/MyDrive/Colab-Notebooks/AdvanceRoboticsWorkshop/data/rtp-rgbd/color_img/\"\n",
        "IMAGE_RESHAPE = (256, 256, 3)\n",
        "\n",
        "# Generate a simple model from trained autoencoder. \n",
        "# This model takes in input image and returns bottleneck-layer. \n",
        "# Input Image -> Encoder -> bottleneck output -> CNN\n",
        "model_layers = tf.keras.models.load_model(AUTOENCODER_MODEL_PATH)\n",
        "bottleneck_layer = model_layers.get_layer(\"bottleneck\").output\n",
        "encoder = Model(inputs=model_layers.inputs, outputs=bottleneck_layer, name=\"encoder\")"
      ],
      "metadata": {
        "colab": {
          "base_uri": "https://localhost:8080/"
        },
        "id": "uI70OywWvNsk",
        "outputId": "909b91c7-55df-4ce6-f6e2-dc8f1161c3ad"
      },
      "execution_count": null,
      "outputs": [
        {
          "output_type": "stream",
          "name": "stdout",
          "text": [
            "WARNING:tensorflow:SavedModel saved prior to TF 2.5 detected when loading Keras model. Please ensure that you are saving the model with model.save() or tf.keras.models.save_model(), *NOT* tf.saved_model.save(). To confirm, there should be a file named \"keras_metadata.pb\" in the SavedModel directory.\n"
          ]
        }
      ]
    },
    {
      "cell_type": "code",
      "source": [
        "# Load the dataset\n",
        "\n",
        "# Generate file ids based on regions. \n",
        "regions = [\"A\", \"B\", \"C\", \"D\"]\n",
        "total = 10\n",
        "id_list = [ region + \"_\" + str(n).zfill(3) for n in range(1,total) for region in regions]\n",
        "\n",
        "# randomly pick train and test.\n",
        "train_set = int (0.7 * len(id_list))\n",
        "test_set = len(id_list) - train_set\n",
        "id_list_train , id_list_test = random.sample( id_list, train_set ), random.sample( id_list, test_set )\n",
        "idx_list_train = [ id_list.index(i) for i in id_list_train if id_list.index(i) < len(id_list)]\n",
        "idx_list_test  = [id_list.index(i) for i in id_list_test if id_list.index(i) < len(id_list)]\n",
        "\n",
        "\n",
        "# load encoded images \n",
        "encoded_images = load_encoded_images(IMAGE_DIR, id_list, encoder, IMAGE_RESHAPE)\n",
        "\n",
        "\n",
        "# Labels configuration.\n",
        "TRAJ_DIR = \"/content/drive/MyDrive/Colab-Notebooks/AdvanceRoboticsWorkshop/data/rtp-rgbd/trajectories/\"\n",
        "\n",
        "# Load trajectories.\n",
        "trajectories = load_array_from_json(TRAJ_DIR, \"joint_position\", id_list, slicer=np.s_[..., 0:n_dof])\n",
        "\n",
        "# Convert each trajectory into ProMP weights.\n",
        "promp_weights = np.zeros((len(trajectories), promp.n_basis * promp.n_dof))\n",
        "for i, trajectory in enumerate(trajectories):\n",
        "    promp_weights[i, :] = promp.weights_from_trajectory(trajectory)\n"
      ],
      "metadata": {
        "id": "K_MqPM4rveeK",
        "colab": {
          "base_uri": "https://localhost:8080/"
        },
        "outputId": "0eff3d38-ed31-4cbc-d749-f102ef9a5364"
      },
      "execution_count": null,
      "outputs": [
        {
          "output_type": "stream",
          "name": "stdout",
          "text": [
            "(153, 7)\n"
          ]
        }
      ]
    },
    {
      "cell_type": "code",
      "source": [
        "# Create model. \n",
        "\n",
        "# Model configuration \n",
        "LOSS_DIR = \"/content/drive/MyDrive/Colab-Notebooks/AdvanceRoboticsWorkshop/rtp_cnn/model/\"\n",
        "MODEL_DIR = \"/content/drive/MyDrive/Colab-Notebooks/AdvanceRoboticsWorkshop/rtp_cnn/model/\"\n",
        "BATCH_SIZE = 10\n",
        "EPOCHS = 30\n",
        "LR = 1e-3\n",
        "TEST_SIZE = 10\n",
        "MODEL_NAME = \"rtp_rgbd_cnn_3\"\n",
        "MODEL_WEIGHTS_PATH = os.path.join(MODEL_DIR, MODEL_NAME, \"weights\")\n",
        "name = \"RTP\"\n",
        "\n",
        "optimizer = tf.keras.optimizers.Adam(learning_rate=LR)\n",
        "loss = get_joint_loss(promp)\n",
        "\n",
        "\n",
        "l1_reg = 0.0\n",
        "l2_reg = 0.0\n",
        "l1_l2_reg = tf.keras.regularizers.l1_l2(l1_reg, l2_reg)\n",
        "\n",
        "input_layer = layers.Input(shape=(32, 32, 3), name=\"encoded_image_input\")\n",
        "\n",
        "# convolution sub-network\n",
        "x = layers.Conv2D(32, (3, 3), padding=\"same\", kernel_regularizer=l1_l2_reg)(input_layer)\n",
        "x = layers.MaxPooling2D(pool_size=(2, 2))(x)\n",
        "x = layers.Dropout(0.25)(x)\n",
        "\n",
        "x = layers.Conv2D(16, (3, 3), padding=\"same\", kernel_regularizer=l1_l2_reg)(x)\n",
        "x = layers.MaxPooling2D(pool_size=(2, 2))(x)\n",
        "x = layers.Dropout(0.25)(x)\n",
        "\n",
        "x = layers.Conv2D(8, (3, 3), padding=\"same\", kernel_regularizer=l1_l2_reg)(x)\n",
        "x = layers.MaxPooling2D(pool_size=(2, 2))(x)\n",
        "x = layers.Dropout(0.25)(x)\n",
        "\n",
        "x = layers.Conv2D(4, (3, 3), padding=\"same\", kernel_regularizer=l1_l2_reg)(x)\n",
        "x = layers.Flatten(name=\"feature_vec\")(x)\n",
        "\n",
        "# fully connected sub-network\n",
        "neorons = [64]\n",
        "for dense_size in [64]:\n",
        "    x = layers.Dense(dense_size, activation=\"relu\", kernel_regularizer=l1_l2_reg)(x)\n",
        "    \n",
        "output_layer = layers.Dense(promp.n_dof * promp.n_basis, activation=\"linear\")(x)\n",
        "\n",
        "model = Model(inputs=input_layer, outputs=output_layer, name=name)"
      ],
      "metadata": {
        "id": "jGhV4TIhwvcX"
      },
      "execution_count": null,
      "outputs": []
    },
    {
      "cell_type": "code",
      "source": [
        "# Training part.\n",
        "model.summary(print_fn=print)\n",
        "\n",
        "model.compile(optimizer=optimizer, loss=loss)\n",
        "\n",
        "# Load the data.\n",
        "print (\"Encoded images size: \", encoded_images.shape)\n",
        "\n",
        "# Train/Test data\n",
        "X_train, y_train = encoded_images[idx_list_train], promp_weights[idx_list_train]\n",
        "X_val, y_val = encoded_images[idx_list_test], promp_weights[idx_list_test]\n",
        "\n",
        "# Training.\n",
        "history = model.fit(\n",
        "    X_train, y_train, validation_data=(X_val, y_val),\n",
        "    epochs=EPOCHS, batch_size=BATCH_SIZE, shuffle=True, verbose=0\n",
        ")\n",
        "\n",
        "model.save_weights(MODEL_WEIGHTS_PATH)\n"
      ],
      "metadata": {
        "colab": {
          "base_uri": "https://localhost:8080/"
        },
        "id": "cUPJ6FCfxp08",
        "outputId": "c373b070-6d46-4504-beb3-b55ce4e8ba93"
      },
      "execution_count": null,
      "outputs": [
        {
          "output_type": "stream",
          "name": "stdout",
          "text": [
            "Model: \"RTP\"\n",
            "_________________________________________________________________\n",
            " Layer (type)                Output Shape              Param #   \n",
            "=================================================================\n",
            " encoded_image_input (InputL  [(None, 32, 32, 3)]      0         \n",
            " ayer)                                                           \n",
            "                                                                 \n",
            " conv2d_4 (Conv2D)           (None, 32, 32, 32)        896       \n",
            "                                                                 \n",
            " max_pooling2d_3 (MaxPooling  (None, 16, 16, 32)       0         \n",
            " 2D)                                                             \n",
            "                                                                 \n",
            " dropout_3 (Dropout)         (None, 16, 16, 32)        0         \n",
            "                                                                 \n",
            " conv2d_5 (Conv2D)           (None, 16, 16, 16)        4624      \n",
            "                                                                 \n",
            " max_pooling2d_4 (MaxPooling  (None, 8, 8, 16)         0         \n",
            " 2D)                                                             \n",
            "                                                                 \n",
            " dropout_4 (Dropout)         (None, 8, 8, 16)          0         \n",
            "                                                                 \n",
            " conv2d_6 (Conv2D)           (None, 8, 8, 8)           1160      \n",
            "                                                                 \n",
            " max_pooling2d_5 (MaxPooling  (None, 4, 4, 8)          0         \n",
            " 2D)                                                             \n",
            "                                                                 \n",
            " dropout_5 (Dropout)         (None, 4, 4, 8)           0         \n",
            "                                                                 \n",
            " conv2d_7 (Conv2D)           (None, 4, 4, 4)           292       \n",
            "                                                                 \n",
            " feature_vec (Flatten)       (None, 64)                0         \n",
            "                                                                 \n",
            " dense_2 (Dense)             (None, 64)                4160      \n",
            "                                                                 \n",
            " dense_3 (Dense)             (None, 70)                4550      \n",
            "                                                                 \n",
            "=================================================================\n",
            "Total params: 15,682\n",
            "Trainable params: 15,682\n",
            "Non-trainable params: 0\n",
            "_________________________________________________________________\n",
            "Encoded images size:  (36, 32, 32, 3)\n"
          ]
        }
      ]
    },
    {
      "cell_type": "code",
      "source": [
        "# Plot the history of a metric during a training episode\n",
        "\n",
        "data = np.array([history.history[\"loss\"]])\n",
        "epochs = range(1, data.shape[-1]+1)\n",
        "\n",
        "fig = plt.figure()\n",
        "plt.plot(epochs, np.transpose(data))\n",
        "plt.yscale(\"linear\")\n",
        "plt.grid(True, which='both')\n",
        "plt.title(\"Training Loss\")\n",
        "plt.xlabel(\"Epochs\")\n",
        "plt.ylabel(\"Loss\")\n",
        "\n",
        "fig.savefig( os.path.join(LOSS_DIR, \"loss_{}.png\".format(MODEL_NAME) ) )\n"
      ],
      "metadata": {
        "colab": {
          "base_uri": "https://localhost:8080/",
          "height": 295
        },
        "id": "8o7T1wANyaDE",
        "outputId": "d326b932-3b39-4799-d99c-60e382c597cb"
      },
      "execution_count": null,
      "outputs": [
        {
          "output_type": "display_data",
          "data": {
            "text/plain": [
              "<Figure size 432x288 with 1 Axes>"
            ],
            "image/png": "[encoded data removed]"
          },
          "metadata": {
            "needs_background": "light"
          }
        }
      ]
    },
    {
      "cell_type": "code",
      "source": [
        "# Test case \n",
        "N = 4\n",
        "\n",
        "y_pred = model.predict( X_val )\n",
        "\n",
        "print ( y_pred.shape, y_val.shape ) \n",
        "\n",
        "traj_test = promp.trajectory_from_weights( y_val[N] )\n",
        "traj_pred = promp.trajectory_from_weights( y_pred[N] )\n",
        "print (traj_test.shape, traj_pred.shape )\n",
        "\n",
        "fig = plt.figure(2, figsize=(12,12))\n",
        "\n",
        "for i in range(7):\n",
        "  plt.subplot(3,3,i+1)\n",
        "  plt.plot( traj_test[:, i] , 'r--') \n",
        "  plt.plot( traj_pred[:, i] , 'b--') \n",
        "  plt.title(\"Joint {}\".format(i+1))\n"
      ],
      "metadata": {
        "colab": {
          "base_uri": "https://localhost:8080/",
          "height": 751
        },
        "id": "LjkhxuEX3wS7",
        "outputId": "4640d64c-c666-4e55-d514-eb20e9b5f18b"
      },
      "execution_count": null,
      "outputs": [
        {
          "output_type": "stream",
          "name": "stdout",
          "text": [
            "(11, 70) (11, 70)\n",
            "(100, 7) (100, 7)\n"
          ]
        },
        {
          "output_type": "display_data",
          "data": {
            "text/plain": [
              "<Figure size 864x864 with 7 Axes>"
            ],
            "image/png": "[encoded data removed]"
          },
          "metadata": {
            "needs_background": "light"
          }
        }
      ]
    }
  ]
}